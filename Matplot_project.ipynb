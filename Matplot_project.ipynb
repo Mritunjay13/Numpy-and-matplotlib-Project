{
 "cells": [
  {
   "cell_type": "code",
   "execution_count": null,
   "metadata": {},
   "outputs": [],
   "source": [
    "import numpy as np\n",
    "import matplotlib.pyplot as plt\n",
    "import csv"
   ]
  },
  {
   "cell_type": "code",
   "execution_count": null,
   "metadata": {},
   "outputs": [],
   "source": [
    "data =[]\n",
    "with open(r\"C:\\Users\\Lenovo\\Downloads\\MER_T07_02A-2020-02-03.csv\",'r') as csvfile:\n",
    "    file_reader = csv.reader(csvfile,delimiter=',')\n",
    "    for row in file_reader:\n",
    "        data.append(row)\n",
    "data = np.array(data)        \n"
   ]
  },
  {
   "cell_type": "markdown",
   "metadata": {},
   "source": [
    "1. Explore the important attributes like dimension,shape, data type etc, of the array formed\n",
    "above.\n"
   ]
  },
  {
   "cell_type": "code",
   "execution_count": null,
   "metadata": {},
   "outputs": [],
   "source": [
    "print(\"Dimension of array formed above is:\", data.ndim)\n",
    "print(\"Shape of array formed above is:\", data.shape)\n",
    "print(\"Datatype of array formed above is:\", data.dtype.type)"
   ]
  },
  {
   "attachments": {},
   "cell_type": "markdown",
   "metadata": {},
   "source": [
    "2. Print the data contained in the first 10 rows of the 4th column"
   ]
  },
  {
   "cell_type": "code",
   "execution_count": null,
   "metadata": {},
   "outputs": [],
   "source": [
    "print(data[0:9,[4]])"
   ]
  },
  {
   "attachments": {},
   "cell_type": "markdown",
   "metadata": {},
   "source": [
    "3. Which row serves as the headers/titles for all the columns.\n"
   ]
  },
  {
   "cell_type": "code",
   "execution_count": null,
   "metadata": {},
   "outputs": [],
   "source": [
    "print(data[0,0:6])"
   ]
  },
  {
   "attachments": {},
   "cell_type": "markdown",
   "metadata": {},
   "source": [
    "4. Print the data contained in column 2 and 3 from row 1 till row 20"
   ]
  },
  {
   "cell_type": "code",
   "execution_count": null,
   "metadata": {},
   "outputs": [],
   "source": [
    "print(data[0:20,1:3])"
   ]
  },
  {
   "attachments": {},
   "cell_type": "markdown",
   "metadata": {},
   "source": [
    "5. Print the data present in only the first three and the last three rows of all the columns in a\n",
    "single output"
   ]
  },
  {
   "cell_type": "code",
   "execution_count": null,
   "metadata": {},
   "outputs": [],
   "source": [
    "print(\"First and last three rows are \\n\" , np.vstack((data[:3,:],data[:-3,:])))"
   ]
  },
  {
   "attachments": {},
   "cell_type": "markdown",
   "metadata": {},
   "source": [
    "6. Sort the data on the basis of net amount of electricity generated irrespective of the\n",
    "source."
   ]
  },
  {
   "cell_type": "code",
   "execution_count": null,
   "metadata": {},
   "outputs": [],
   "source": [
    "mask = (data[:,2]!= 'Not Available')\n",
    "value = data[mask]\n",
    "np.sort(value[1:,2:3].astype(float))"
   ]
  },
  {
   "attachments": {},
   "cell_type": "markdown",
   "metadata": {},
   "source": [
    "7. Find the total amount of electricity generated using coal and nuclear between\n",
    "1949-1990.( In this dataset, rows containing monthly data express date in the format\n",
    "'YYYYMM'. Rows containing annual data express the date in the format 'YYYY13'.)"
   ]
  },
  {
   "cell_type": "code",
   "execution_count": 22,
   "metadata": {},
   "outputs": [],
   "source": [
    "hr=data[1:]\n",
    "cond_time=np.mod(hr[:,1].astype(int),100)==13\n",
    "data_annual=hr[cond_time]"
   ]
  },
  {
   "cell_type": "code",
   "execution_count": null,
   "metadata": {},
   "outputs": [],
   "source": [
    "c1990=data_annual[:,1].astype(int)<=199013\n",
    "data1990=data_annual[c1990]\n"
   ]
  },
  {
   "cell_type": "code",
   "execution_count": null,
   "metadata": {},
   "outputs": [],
   "source": [
    "cond_coal=data1990[:,4]=='Electricity Net Generation From Coal, All Sectors'\n",
    "coal=data1990[cond_coal]"
   ]
  },
  {
   "cell_type": "code",
   "execution_count": null,
   "metadata": {},
   "outputs": [],
   "source": [
    "cond_nucl=data1990[:,4]=='Electricity Net Generation From Nuclear Electric Power, All Sectors'\n",
    "nuclear=data1990[cond_nucl]"
   ]
  },
  {
   "cell_type": "code",
   "execution_count": null,
   "metadata": {},
   "outputs": [],
   "source": [
    "final=np.vstack((coal,nuclear))\n"
   ]
  },
  {
   "cell_type": "code",
   "execution_count": null,
   "metadata": {},
   "outputs": [],
   "source": [
    "print(\"Total amount of electricity generated using coal and nuclear between 1949-1990:\",np.sum(final[:,2].astype(float)),\"Million Kilowatthours\")"
   ]
  },
  {
   "attachments": {},
   "cell_type": "markdown",
   "metadata": {},
   "source": [
    "8. Print all the unique sources of Energy generation present in the dataset."
   ]
  },
  {
   "cell_type": "code",
   "execution_count": null,
   "metadata": {},
   "outputs": [],
   "source": [
    "source = hr[:,4]\n",
    "unique_source=np.unique(source)\n",
    "print('All the unique source of energy genration present in the dataset are:',unique_source )"
   ]
  },
  {
   "attachments": {},
   "cell_type": "markdown",
   "metadata": {},
   "source": [
    "9. Print all the details(annual) where the energy source is Wind Energy. Use the concept of\n",
    "masking to filter the data."
   ]
  },
  {
   "cell_type": "code",
   "execution_count": 66,
   "metadata": {},
   "outputs": [
    {
     "name": "stdout",
     "output_type": "stream",
     "text": [
      "Total (annual) energy generated with wind is: 4127861.363 Million Kilowatthours\n"
     ]
    }
   ],
   "source": [
    "mask = (data[:, 4] == 'Electricity Net Generation From Wind, All Sectors')\n",
    "w_data=data[mask]\n",
    "w_value=w_data[1:,2]\n",
    "w_energy = np.where(w_value == 'Not Available', np.nan, w_value)\n",
    "total_wind = np.nansum(w_energy.astype(float))\n",
    "print(\"Total (annual) energy generated with wind is:\",total_wind, \"Million Kilowatthours\")\n"
   ]
  },
  {
   "attachments": {},
   "cell_type": "markdown",
   "metadata": {},
   "source": [
    "10. Print the Total Energy generated in the USA till date."
   ]
  },
  {
   "cell_type": "code",
   "execution_count": 67,
   "metadata": {},
   "outputs": [
    {
     "name": "stdout",
     "output_type": "stream",
     "text": [
      "Total energy generated in the USA till date: 642969289.5169998 Million Kilowatthours\n"
     ]
    }
   ],
   "source": [
    "energy_values = data[1:, 2]\n",
    "energy_values = np.where(energy_values == 'Not Available', np.nan, energy_values)\n",
    "total_energy = np.nansum(energy_values.astype(float))\n",
    "print(\"Total energy generated in the USA till date:\", total_energy, \"Million Kilowatthours\")\n"
   ]
  },
  {
   "attachments": {},
   "cell_type": "markdown",
   "metadata": {},
   "source": [
    "13. Plot the above data to find if the energy production in the USA has increased in the last\n",
    "10 years."
   ]
  },
  {
   "cell_type": "code",
   "execution_count": 102,
   "metadata": {},
   "outputs": [
    {
     "data": {
      "image/png": "[encoded data removed]",
      "text/plain": [
       "<Figure size 640x480 with 1 Axes>"
      ]
     },
     "metadata": {},
     "output_type": "display_data"
    }
   ],
   "source": [
    "last_10_years = data_annual[-10:, :]\n",
    "years = last_10_years[:, 1].astype(int)\n",
    "energy_generation = last_10_years[:, 2].astype(float)\n",
    "\n",
    "plt.plot(years, energy_generation, label=\"Energy Generation (Million Kilowatthours, )\",color='orange')\n",
    "plt.xlabel(\"Year\")\n",
    "plt.ylabel(\"Energy Generation (Million Kilowatthours)\")\n",
    "plt.title(\"Energy Generation in the USA - Last 10 Years\")\n",
    "plt.legend()\n",
    "plt.show()\n"
   ]
  }
 ],
 "metadata": {
  "kernelspec": {
   "display_name": "Python 3",
   "language": "python",
   "name": "python3"
  },
  "language_info": {
   "codemirror_mode": {
    "name": "ipython",
    "version": 3
   },
   "file_extension": ".py",
   "mimetype": "text/x-python",
   "name": "python",
   "nbconvert_exporter": "python",
   "pygments_lexer": "ipython3",
   "version": "3.10.10"
  },
  "orig_nbformat": 4,
  "vscode": {
   "interpreter": {
    "hash": "854ad7b50770bedaf0cab730b1aaabb765566ea98036f134b639e260bede141e"
   }
  }
 },
 "nbformat": 4,
 "nbformat_minor": 2
}
