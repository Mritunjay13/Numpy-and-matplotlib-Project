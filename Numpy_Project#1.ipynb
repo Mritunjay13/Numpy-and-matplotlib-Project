{
 "cells": [
  {
   "cell_type": "code",
   "execution_count": null,
   "metadata": {},
   "outputs": [],
   "source": [
    "import numpy as np\n"
   ]
  },
  {
   "attachments": {},
   "cell_type": "markdown",
   "metadata": {},
   "source": [
    "1. Representing the data in the given sheet into an appropriate NumPy array so\n",
    "that we can perform the tasks on it."
   ]
  },
  {
   "attachments": {},
   "cell_type": "markdown",
   "metadata": {},
   "source": [
    "A. To handle such data sets, first i will visulize it, then i will think of all the task i wanna perform on it and i will create a array on that basis\n",
    "So i had four months in spreadsheet so i made an array shape of (4,4,14) , First 4 is all 4 months, 2nd 4 is 4 weeks, and 14 is showing min and max temp of days, Now It's easy and handy to perform tasks on it As each 2d array is coantaining months, each 1d array is weeks in assending order"
   ]
  },
  {
   "cell_type": "code",
   "execution_count": null,
   "metadata": {},
   "outputs": [],
   "source": [
    "data=np.array([[[8,27,10,22,15,26,15,0,7,22.44,11,20,6,28],[6,29,8,24,7,32,-13,32.199,8,-23,7,24,15,22],[10,24,15,23,12,25,8,-21,9,28,6,22,11,20],[9,31,13,27,14,30,12,29,7,22,6,28,15,32]],[[7,13,9,17,11,23,10,22,8,23,12,33,16,32] ,[8,12,10,23,14,23,11,23,16,29,12,33,15,23],[7,19,8,23,10,20,13,23,12,25,11,33,18,34],[13,32,8,24,10,33,7,27,8,20,10,33,14,28]],[[6,11,9,23,10,20,11,17,12,23,11,23,17,33],[10,22,12,23,9,23,11,33,13,24,9,33,11,23],[11,23,10,25,9,28,10,23,8,24,9,28,12,33],[3,12,4,15,7,23,9,22,10,24,3,12,11,19]],[[3,12,7,14,8,10,9,15,10,20,12,22,7,25],[3,23,5,22,10,20,3,11,9,10,6,28,11,26],[4,15,4,15,7,16,9,19,10,11,11,22,14,23],[10,20,9,23,7,23,9,23,10,23,11,23,9,23]]])"
   ]
  },
  {
   "cell_type": "code",
   "execution_count": null,
   "metadata": {},
   "outputs": [],
   "source": [
    "print(data) "
   ]
  },
  {
   "attachments": {},
   "cell_type": "markdown",
   "metadata": {},
   "source": [
    "2. Write the dimensions and shape of the NumPy array that you have\n",
    "created"
   ]
  },
  {
   "cell_type": "code",
   "execution_count": null,
   "metadata": {},
   "outputs": [],
   "source": [
    "print(data.ndim)\n",
    "print(data.shape)"
   ]
  },
  {
   "attachments": {},
   "cell_type": "markdown",
   "metadata": {},
   "source": [
    "3. Print the daily temperatures for the first week of each month."
   ]
  },
  {
   "cell_type": "code",
   "execution_count": null,
   "metadata": {},
   "outputs": [],
   "source": [
    "First_week=data[:, 0,:]\n",
    "print(First_week)"
   ]
  },
  {
   "attachments": {},
   "cell_type": "markdown",
   "metadata": {},
   "source": [
    "4. Print the temperatures for Tuesday of each month."
   ]
  },
  {
   "cell_type": "code",
   "execution_count": null,
   "metadata": {},
   "outputs": [],
   "source": [
    "Tuesday=data[:,:,2:4]\n",
    "print(Tuesday)\n"
   ]
  },
  {
   "attachments": {},
   "cell_type": "markdown",
   "metadata": {},
   "source": [
    "5. Print only the maximum temperature for all the weekdays of Dec and Feb."
   ]
  },
  {
   "cell_type": "code",
   "execution_count": null,
   "metadata": {},
   "outputs": [],
   "source": [
    "weekdays=data[1:4:2,:,0:9:2]\n",
    "print(weekdays)"
   ]
  },
  {
   "attachments": {},
   "cell_type": "markdown",
   "metadata": {},
   "source": [
    "6. Print all the days along with the week number in November when the\n",
    "minimum temperature was less than 8 degrees."
   ]
  },
  {
   "cell_type": "code",
   "execution_count": null,
   "metadata": {},
   "outputs": [],
   "source": [
    "# Access the 2D array for November\n",
    "november = data[0,:,:]\n",
    "\n",
    "# Find the minimum temperature for each day in November\n",
    "min_temps = np.min(november, axis=0)\n",
    "\n",
    "# Find the indices of the days with minimum temperature less than 8\n",
    "indices = np.where(min_temps < 8)[0]\n",
    "\n",
    "# Loop through the indices and print the day and week number\n",
    "for i in indices:\n",
    "    week = i // 7 + 1  # divide by 7 and add 1 to get the week number\n",
    "    day = i % 7 + 1  # modulo 7 and add 1 to get the day of the week\n",
    "    print(f\"Week {week}, Day {day}: {min_temps[i]}\")\n"
   ]
  },
  {
   "cell_type": "markdown",
   "metadata": {},
   "source": [
    "8. Check if there are any absurd values present in the dataset(like some temp\n",
    "which should not be present in the data)"
   ]
  },
  {
   "cell_type": "code",
   "execution_count": null,
   "metadata": {},
   "outputs": [],
   "source": [
    "absurd_values = data[data <= 0]  # Select all negative temperatures\n",
    "if len(absurd_values) >= 0:  # Check if there are any absurd values\n",
    "    print(\"Absurd values detected:\", absurd_values)\n",
    "else:\n",
    "    print(\"No absurd values detected.\")\n"
   ]
  },
  {
   "attachments": {},
   "cell_type": "markdown",
   "metadata": {},
   "source": [
    "9. What strategy would you use to handle such data points?"
   ]
  },
  {
   "attachments": {},
   "cell_type": "markdown",
   "metadata": {},
   "source": [
    "A. I have provided answer in 1st question"
   ]
  },
  {
   "attachments": {},
   "cell_type": "markdown",
   "metadata": {},
   "source": [
    "10. Find and print the indexes of all the outlier(unusual) values present in\n",
    "the above dataset."
   ]
  },
  {
   "cell_type": "code",
   "execution_count": null,
   "metadata": {},
   "outputs": [],
   "source": [
    "# Find the indices of the outlier values \n",
    "outlier_indices = np.argwhere(data > 0) # data is > 4 in view of the fact is jaipur's temp doesn't go below 4\n",
    "\n",
    "# Print the indices\n",
    "print(outlier_indices)\n"
   ]
  },
  {
   "attachments": {},
   "cell_type": "markdown",
   "metadata": {},
   "source": [
    "11.Replace the outliers with an appropriate value."
   ]
  },
  {
   "cell_type": "code",
   "execution_count": null,
   "metadata": {},
   "outputs": [],
   "source": [
    "outlier = np.where(data < 4) # Finding the index\n",
    "data[outlier]=8 # replacing outliers with appropriate value\n",
    "print(data)"
   ]
  },
  {
   "attachments": {},
   "cell_type": "markdown",
   "metadata": {},
   "source": [
    "12. Find the average max temperature for the winter months in Jaipur."
   ]
  },
  {
   "cell_type": "code",
   "execution_count": null,
   "metadata": {},
   "outputs": [],
   "source": [
    "# Select the elements corresponding to the winter months\n",
    "winter_months = data[:3]\n",
    "\n",
    "# Select the maximum temperature for each week\n",
    "max_temps = winter_months[:, :, 1:14:2]\n",
    "\n",
    "# Calculate the average maximum temperature for the winter months\n",
    "avg_max_temp = np.mean(max_temps)\n",
    "\n",
    "print(f\"Average maximum temperature for the winter months in Jaipur: {avg_max_temp:.2f}\")\n"
   ]
  },
  {
   "attachments": {},
   "cell_type": "markdown",
   "metadata": {},
   "source": [
    "13. Find the weekly min avg temp for the month of Dec in Jaipur"
   ]
  },
  {
   "cell_type": "code",
   "execution_count": null,
   "metadata": {},
   "outputs": [],
   "source": [
    "# Select the elements corresponding to the month of December\n",
    "december = data[1]\n",
    "\n",
    "# Select the minimum temperature for each week\n",
    "min_temps = december[:, 0:14:2]\n",
    "\n",
    "# Calculate the average minimum temperature for each week\n",
    "avg_min_temps = np.mean(min_temps, axis=0)\n",
    "\n",
    "print(f\"Average minimum temperatures for each week in December in Jaipur: {avg_min_temps}\")\n"
   ]
  },
  {
   "attachments": {},
   "cell_type": "markdown",
   "metadata": {},
   "source": [
    "14. Find the overall avg temp for the months Dec and Jan"
   ]
  },
  {
   "cell_type": "code",
   "execution_count": null,
   "metadata": {},
   "outputs": [],
   "source": [
    "# Select the elements corresponding to the months of December and January\n",
    "dec_jan = data[1:3]\n",
    "\n",
    "# Flatten the array to a 1D array\n",
    "flat_array = dec_jan.flatten()\n",
    "\n",
    "# Calculate the average temperature for the months of December and January\n",
    "avg_temp = np.mean(flat_array)\n",
    "\n",
    "print(f\"Overall average temperature for the months of December and January: {avg_temp:.2f}\")\n"
   ]
  },
  {
   "attachments": {},
   "cell_type": "markdown",
   "metadata": {},
   "source": [
    "15. Find the least temp experienced by the city in the month of Dec and\n",
    "Jan. Also print the exact date( Day/Week/Month) for the same."
   ]
  },
  {
   "cell_type": "code",
   "execution_count": null,
   "metadata": {},
   "outputs": [],
   "source": [
    "# Select the elements corresponding to the months of December and January\n",
    "dec_jan = data[1:3]\n",
    "\n",
    "# Flatten the array to a 1D array\n",
    "flat_array = dec_jan.flatten()\n",
    "\n",
    "# Find the minimum temperature\n",
    "min_temp = np.min(flat_array)"
   ]
  }
 ],
 "metadata": {
  "kernelspec": {
   "display_name": "Python 3",
   "language": "python",
   "name": "python3"
  },
  "language_info": {
   "codemirror_mode": {
    "name": "ipython",
    "version": 3
   },
   "file_extension": ".py",
   "mimetype": "text/x-python",
   "name": "python",
   "nbconvert_exporter": "python",
   "pygments_lexer": "ipython3",
   "version": "3.10.8"
  },
  "orig_nbformat": 4,
  "vscode": {
   "interpreter": {
    "hash": "854ad7b50770bedaf0cab730b1aaabb765566ea98036f134b639e260bede141e"
   }
  }
 },
 "nbformat": 4,
 "nbformat_minor": 2
}
