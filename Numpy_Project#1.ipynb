{
 "cells": [
  {
   "cell_type": "code",
   "execution_count": 1,
   "metadata": {},
   "outputs": [],
   "source": [
    "import numpy as np\n"
   ]
  },
  {
   "attachments": {},
   "cell_type": "markdown",
   "metadata": {},
   "source": [
    "1. Representing the data in the given sheet into an appropriate NumPy array so\n",
    "that we can perform the tasks on it."
   ]
  },
  {
   "attachments": {},
   "cell_type": "markdown",
   "metadata": {},
   "source": [
    "A. To handle such data sets, first i will visulize it, then i will think of all the task i wanna perform on it and i will create a array on that basis\n",
    "So i had four months in spreadsheet so i made an array shape of (4,4,14) , First 4 is all 4 months, 2nd 4 is 4 weeks, and 14 is showing min and max temp of days, Now It's easy and handy to perform tasks on it As each 2d array is coantaining months, each 1d array is weeks in assending order"
   ]
  },
  {
   "cell_type": "code",
   "execution_count": 2,
   "metadata": {},
   "outputs": [],
   "source": [
    "data=np.array([[[8,27,10,22,15,26,15,0,7,22.44,11,20,6,28],[6,29,8,24,7,32,-13,32.199,8,-23,7,24,15,22],[10,24,15,23,12,25,8,-21,9,28,6,22,11,20],[9,31,13,27,14,30,12,29,7,22,6,28,15,32]],[[7,13,9,17,11,23,10,22,8,23,12,33,16,32] ,[8,12,10,23,14,23,11,23,16,29,12,33,15,23],[7,19,8,23,10,20,13,23,12,25,11,33,18,34],[13,32,8,24,10,33,7,27,8,20,10,33,14,28]],[[6,11,9,23,10,20,11,17,12,23,11,23,17,33],[10,22,12,23,9,23,11,33,13,24,9,33,11,23],[11,23,10,25,9,28,10,23,8,24,9,28,12,33],[3,12,4,15,7,23,9,22,10,24,3,12,11,19]],[[3,12,7,14,8,10,9,15,10,20,12,22,7,25],[3,23,5,22,10,20,3,11,9,10,6,28,11,26],[4,15,4,15,7,16,9,19,10,11,11,22,14,23],[10,20,9,23,7,23,9,23,10,23,11,23,9,23]]])"
   ]
  },
  {
   "cell_type": "code",
   "execution_count": 3,
   "metadata": {},
   "outputs": [
    {
     "name": "stdout",
     "output_type": "stream",
     "text": [
      "[[[  8.     27.     10.     22.     15.     26.     15.      0.\n",
      "     7.     22.44   11.     20.      6.     28.   ]\n",
      "  [  6.     29.      8.     24.      7.     32.    -13.     32.199\n",
      "     8.    -23.      7.     24.     15.     22.   ]\n",
      "  [ 10.     24.     15.     23.     12.     25.      8.    -21.\n",
      "     9.     28.      6.     22.     11.     20.   ]\n",
      "  [  9.     31.     13.     27.     14.     30.     12.     29.\n",
      "     7.     22.      6.     28.     15.     32.   ]]\n",
      "\n",
      " [[  7.     13.      9.     17.     11.     23.     10.     22.\n",
      "     8.     23.     12.     33.     16.     32.   ]\n",
      "  [  8.     12.     10.     23.     14.     23.     11.     23.\n",
      "    16.     29.     12.     33.     15.     23.   ]\n",
      "  [  7.     19.      8.     23.     10.     20.     13.     23.\n",
      "    12.     25.     11.     33.     18.     34.   ]\n",
      "  [ 13.     32.      8.     24.     10.     33.      7.     27.\n",
      "     8.     20.     10.     33.     14.     28.   ]]\n",
      "\n",
      " [[  6.     11.      9.     23.     10.     20.     11.     17.\n",
      "    12.     23.     11.     23.     17.     33.   ]\n",
      "  [ 10.     22.     12.     23.      9.     23.     11.     33.\n",
      "    13.     24.      9.     33.     11.     23.   ]\n",
      "  [ 11.     23.     10.     25.      9.     28.     10.     23.\n",
      "     8.     24.      9.     28.     12.     33.   ]\n",
      "  [  3.     12.      4.     15.      7.     23.      9.     22.\n",
      "    10.     24.      3.     12.     11.     19.   ]]\n",
      "\n",
      " [[  3.     12.      7.     14.      8.     10.      9.     15.\n",
      "    10.     20.     12.     22.      7.     25.   ]\n",
      "  [  3.     23.      5.     22.     10.     20.      3.     11.\n",
      "     9.     10.      6.     28.     11.     26.   ]\n",
      "  [  4.     15.      4.     15.      7.     16.      9.     19.\n",
      "    10.     11.     11.     22.     14.     23.   ]\n",
      "  [ 10.     20.      9.     23.      7.     23.      9.     23.\n",
      "    10.     23.     11.     23.      9.     23.   ]]]\n"
     ]
    }
   ],
   "source": [
    "print(data) "
   ]
  },
  {
   "attachments": {},
   "cell_type": "markdown",
   "metadata": {},
   "source": [
    "2. Write the dimensions and shape of the NumPy array that you have\n",
    "created"
   ]
  },
  {
   "cell_type": "code",
   "execution_count": 4,
   "metadata": {},
   "outputs": [
    {
     "name": "stdout",
     "output_type": "stream",
     "text": [
      "3\n",
      "(4, 4, 14)\n"
     ]
    }
   ],
   "source": [
    "print(data.ndim)\n",
    "print(data.shape)"
   ]
  },
  {
   "attachments": {},
   "cell_type": "markdown",
   "metadata": {},
   "source": [
    "3. Print the daily temperatures for the first week of each month."
   ]
  },
  {
   "cell_type": "code",
   "execution_count": 5,
   "metadata": {},
   "outputs": [
    {
     "name": "stdout",
     "output_type": "stream",
     "text": [
      "[[ 8.   27.   10.   22.   15.   26.   15.    0.    7.   22.44 11.   20.\n",
      "   6.   28.  ]\n",
      " [ 7.   13.    9.   17.   11.   23.   10.   22.    8.   23.   12.   33.\n",
      "  16.   32.  ]\n",
      " [ 6.   11.    9.   23.   10.   20.   11.   17.   12.   23.   11.   23.\n",
      "  17.   33.  ]\n",
      " [ 3.   12.    7.   14.    8.   10.    9.   15.   10.   20.   12.   22.\n",
      "   7.   25.  ]]\n"
     ]
    }
   ],
   "source": [
    "First_week=data[:, 0,:]\n",
    "print(First_week)"
   ]
  },
  {
   "attachments": {},
   "cell_type": "markdown",
   "metadata": {},
   "source": [
    "4. Print the temperatures for Tuesday of each month."
   ]
  },
  {
   "cell_type": "code",
   "execution_count": 6,
   "metadata": {},
   "outputs": [
    {
     "name": "stdout",
     "output_type": "stream",
     "text": [
      "[[[10. 22.]\n",
      "  [ 8. 24.]\n",
      "  [15. 23.]\n",
      "  [13. 27.]]\n",
      "\n",
      " [[ 9. 17.]\n",
      "  [10. 23.]\n",
      "  [ 8. 23.]\n",
      "  [ 8. 24.]]\n",
      "\n",
      " [[ 9. 23.]\n",
      "  [12. 23.]\n",
      "  [10. 25.]\n",
      "  [ 4. 15.]]\n",
      "\n",
      " [[ 7. 14.]\n",
      "  [ 5. 22.]\n",
      "  [ 4. 15.]\n",
      "  [ 9. 23.]]]\n"
     ]
    }
   ],
   "source": [
    "Tuesday=data[:,:,2:4]\n",
    "print(Tuesday)\n"
   ]
  },
  {
   "attachments": {},
   "cell_type": "markdown",
   "metadata": {},
   "source": [
    "5. Print only the maximum temperature for all the weekdays of Dec and Feb."
   ]
  },
  {
   "cell_type": "code",
   "execution_count": 7,
   "metadata": {},
   "outputs": [
    {
     "name": "stdout",
     "output_type": "stream",
     "text": [
      "[[[ 7.  9. 11. 10.  8.]\n",
      "  [ 8. 10. 14. 11. 16.]\n",
      "  [ 7.  8. 10. 13. 12.]\n",
      "  [13.  8. 10.  7.  8.]]\n",
      "\n",
      " [[ 3.  7.  8.  9. 10.]\n",
      "  [ 3.  5. 10.  3.  9.]\n",
      "  [ 4.  4.  7.  9. 10.]\n",
      "  [10.  9.  7.  9. 10.]]]\n"
     ]
    }
   ],
   "source": [
    "weekdays=data[1:4:2,:,0:9:2]\n",
    "print(weekdays)"
   ]
  },
  {
   "attachments": {},
   "cell_type": "markdown",
   "metadata": {},
   "source": [
    "6. Print all the days along with the week number in November when the\n",
    "minimum temperature was less than 8 degrees."
   ]
  },
  {
   "cell_type": "code",
   "execution_count": 8,
   "metadata": {},
   "outputs": [
    {
     "name": "stdout",
     "output_type": "stream",
     "text": [
      "Week 1, Day 1: 6.0\n",
      "Week 1, Day 5: 7.0\n",
      "Week 1, Day 7: -13.0\n",
      "Week 2, Day 1: -21.0\n",
      "Week 2, Day 2: 7.0\n",
      "Week 2, Day 3: -23.0\n",
      "Week 2, Day 4: 6.0\n",
      "Week 2, Day 6: 6.0\n"
     ]
    }
   ],
   "source": [
    "# Access the 2D array for November\n",
    "november = data[0,:,:]\n",
    "\n",
    "# Find the minimum temperature for each day in November\n",
    "min_temps = np.min(november, axis=0)\n",
    "\n",
    "# Find the indices of the days with minimum temperature less than 8\n",
    "indices = np.where(min_temps < 8)[0]\n",
    "\n",
    "# Loop through the indices and print the day and week number\n",
    "for i in indices:\n",
    "    week = i // 7 + 1  # divide by 7 and add 1 to get the week number\n",
    "    day = i % 7 + 1  # modulo 7 and add 1 to get the day of the week\n",
    "    print(f\"Week {week}, Day {day}: {min_temps[i]}\")\n"
   ]
  },
  {
   "cell_type": "markdown",
   "metadata": {},
   "source": [
    "8. Check if there are any absurd values present in the dataset(like some temp\n",
    "which should not be present in the data)"
   ]
  },
  {
   "cell_type": "code",
   "execution_count": 9,
   "metadata": {},
   "outputs": [
    {
     "name": "stdout",
     "output_type": "stream",
     "text": [
      "Absurd values detected: [  0. -13. -23. -21.]\n"
     ]
    }
   ],
   "source": [
    "absurd_values = data[data <= 0]  # Select all negative temperatures\n",
    "if len(absurd_values) >= 0:  # Check if there are any absurd values\n",
    "    print(\"Absurd values detected:\", absurd_values)\n",
    "else:\n",
    "    print(\"No absurd values detected.\")\n"
   ]
  },
  {
   "attachments": {},
   "cell_type": "markdown",
   "metadata": {},
   "source": [
    "9. What strategy would you use to handle such data points?"
   ]
  },
  {
   "attachments": {},
   "cell_type": "markdown",
   "metadata": {},
   "source": [
    "A. I have provided answer in 1st question"
   ]
  },
  {
   "attachments": {},
   "cell_type": "markdown",
   "metadata": {},
   "source": [
    "10. Find and print the indexes of all the outlier(unusual) values present in\n",
    "the above dataset."
   ]
  },
  {
   "cell_type": "code",
   "execution_count": 10,
   "metadata": {},
   "outputs": [
    {
     "name": "stdout",
     "output_type": "stream",
     "text": [
      "[[ 0  0  0]\n",
      " [ 0  0  1]\n",
      " [ 0  0  2]\n",
      " [ 0  0  3]\n",
      " [ 0  0  4]\n",
      " [ 0  0  5]\n",
      " [ 0  0  6]\n",
      " [ 0  0  8]\n",
      " [ 0  0  9]\n",
      " [ 0  0 10]\n",
      " [ 0  0 11]\n",
      " [ 0  0 12]\n",
      " [ 0  0 13]\n",
      " [ 0  1  0]\n",
      " [ 0  1  1]\n",
      " [ 0  1  2]\n",
      " [ 0  1  3]\n",
      " [ 0  1  4]\n",
      " [ 0  1  5]\n",
      " [ 0  1  7]\n",
      " [ 0  1  8]\n",
      " [ 0  1 10]\n",
      " [ 0  1 11]\n",
      " [ 0  1 12]\n",
      " [ 0  1 13]\n",
      " [ 0  2  0]\n",
      " [ 0  2  1]\n",
      " [ 0  2  2]\n",
      " [ 0  2  3]\n",
      " [ 0  2  4]\n",
      " [ 0  2  5]\n",
      " [ 0  2  6]\n",
      " [ 0  2  8]\n",
      " [ 0  2  9]\n",
      " [ 0  2 10]\n",
      " [ 0  2 11]\n",
      " [ 0  2 12]\n",
      " [ 0  2 13]\n",
      " [ 0  3  0]\n",
      " [ 0  3  1]\n",
      " [ 0  3  2]\n",
      " [ 0  3  3]\n",
      " [ 0  3  4]\n",
      " [ 0  3  5]\n",
      " [ 0  3  6]\n",
      " [ 0  3  7]\n",
      " [ 0  3  8]\n",
      " [ 0  3  9]\n",
      " [ 0  3 10]\n",
      " [ 0  3 11]\n",
      " [ 0  3 12]\n",
      " [ 0  3 13]\n",
      " [ 1  0  0]\n",
      " [ 1  0  1]\n",
      " [ 1  0  2]\n",
      " [ 1  0  3]\n",
      " [ 1  0  4]\n",
      " [ 1  0  5]\n",
      " [ 1  0  6]\n",
      " [ 1  0  7]\n",
      " [ 1  0  8]\n",
      " [ 1  0  9]\n",
      " [ 1  0 10]\n",
      " [ 1  0 11]\n",
      " [ 1  0 12]\n",
      " [ 1  0 13]\n",
      " [ 1  1  0]\n",
      " [ 1  1  1]\n",
      " [ 1  1  2]\n",
      " [ 1  1  3]\n",
      " [ 1  1  4]\n",
      " [ 1  1  5]\n",
      " [ 1  1  6]\n",
      " [ 1  1  7]\n",
      " [ 1  1  8]\n",
      " [ 1  1  9]\n",
      " [ 1  1 10]\n",
      " [ 1  1 11]\n",
      " [ 1  1 12]\n",
      " [ 1  1 13]\n",
      " [ 1  2  0]\n",
      " [ 1  2  1]\n",
      " [ 1  2  2]\n",
      " [ 1  2  3]\n",
      " [ 1  2  4]\n",
      " [ 1  2  5]\n",
      " [ 1  2  6]\n",
      " [ 1  2  7]\n",
      " [ 1  2  8]\n",
      " [ 1  2  9]\n",
      " [ 1  2 10]\n",
      " [ 1  2 11]\n",
      " [ 1  2 12]\n",
      " [ 1  2 13]\n",
      " [ 1  3  0]\n",
      " [ 1  3  1]\n",
      " [ 1  3  2]\n",
      " [ 1  3  3]\n",
      " [ 1  3  4]\n",
      " [ 1  3  5]\n",
      " [ 1  3  6]\n",
      " [ 1  3  7]\n",
      " [ 1  3  8]\n",
      " [ 1  3  9]\n",
      " [ 1  3 10]\n",
      " [ 1  3 11]\n",
      " [ 1  3 12]\n",
      " [ 1  3 13]\n",
      " [ 2  0  0]\n",
      " [ 2  0  1]\n",
      " [ 2  0  2]\n",
      " [ 2  0  3]\n",
      " [ 2  0  4]\n",
      " [ 2  0  5]\n",
      " [ 2  0  6]\n",
      " [ 2  0  7]\n",
      " [ 2  0  8]\n",
      " [ 2  0  9]\n",
      " [ 2  0 10]\n",
      " [ 2  0 11]\n",
      " [ 2  0 12]\n",
      " [ 2  0 13]\n",
      " [ 2  1  0]\n",
      " [ 2  1  1]\n",
      " [ 2  1  2]\n",
      " [ 2  1  3]\n",
      " [ 2  1  4]\n",
      " [ 2  1  5]\n",
      " [ 2  1  6]\n",
      " [ 2  1  7]\n",
      " [ 2  1  8]\n",
      " [ 2  1  9]\n",
      " [ 2  1 10]\n",
      " [ 2  1 11]\n",
      " [ 2  1 12]\n",
      " [ 2  1 13]\n",
      " [ 2  2  0]\n",
      " [ 2  2  1]\n",
      " [ 2  2  2]\n",
      " [ 2  2  3]\n",
      " [ 2  2  4]\n",
      " [ 2  2  5]\n",
      " [ 2  2  6]\n",
      " [ 2  2  7]\n",
      " [ 2  2  8]\n",
      " [ 2  2  9]\n",
      " [ 2  2 10]\n",
      " [ 2  2 11]\n",
      " [ 2  2 12]\n",
      " [ 2  2 13]\n",
      " [ 2  3  0]\n",
      " [ 2  3  1]\n",
      " [ 2  3  2]\n",
      " [ 2  3  3]\n",
      " [ 2  3  4]\n",
      " [ 2  3  5]\n",
      " [ 2  3  6]\n",
      " [ 2  3  7]\n",
      " [ 2  3  8]\n",
      " [ 2  3  9]\n",
      " [ 2  3 10]\n",
      " [ 2  3 11]\n",
      " [ 2  3 12]\n",
      " [ 2  3 13]\n",
      " [ 3  0  0]\n",
      " [ 3  0  1]\n",
      " [ 3  0  2]\n",
      " [ 3  0  3]\n",
      " [ 3  0  4]\n",
      " [ 3  0  5]\n",
      " [ 3  0  6]\n",
      " [ 3  0  7]\n",
      " [ 3  0  8]\n",
      " [ 3  0  9]\n",
      " [ 3  0 10]\n",
      " [ 3  0 11]\n",
      " [ 3  0 12]\n",
      " [ 3  0 13]\n",
      " [ 3  1  0]\n",
      " [ 3  1  1]\n",
      " [ 3  1  2]\n",
      " [ 3  1  3]\n",
      " [ 3  1  4]\n",
      " [ 3  1  5]\n",
      " [ 3  1  6]\n",
      " [ 3  1  7]\n",
      " [ 3  1  8]\n",
      " [ 3  1  9]\n",
      " [ 3  1 10]\n",
      " [ 3  1 11]\n",
      " [ 3  1 12]\n",
      " [ 3  1 13]\n",
      " [ 3  2  0]\n",
      " [ 3  2  1]\n",
      " [ 3  2  2]\n",
      " [ 3  2  3]\n",
      " [ 3  2  4]\n",
      " [ 3  2  5]\n",
      " [ 3  2  6]\n",
      " [ 3  2  7]\n",
      " [ 3  2  8]\n",
      " [ 3  2  9]\n",
      " [ 3  2 10]\n",
      " [ 3  2 11]\n",
      " [ 3  2 12]\n",
      " [ 3  2 13]\n",
      " [ 3  3  0]\n",
      " [ 3  3  1]\n",
      " [ 3  3  2]\n",
      " [ 3  3  3]\n",
      " [ 3  3  4]\n",
      " [ 3  3  5]\n",
      " [ 3  3  6]\n",
      " [ 3  3  7]\n",
      " [ 3  3  8]\n",
      " [ 3  3  9]\n",
      " [ 3  3 10]\n",
      " [ 3  3 11]\n",
      " [ 3  3 12]\n",
      " [ 3  3 13]]\n"
     ]
    }
   ],
   "source": [
    "# Find the indices of the outlier values \n",
    "outlier_indices = np.argwhere(data > 0) # data is > 4 in view of the fact is jaipur's temp doesn't go below 4\n",
    "\n",
    "# Print the indices\n",
    "print(outlier_indices)\n"
   ]
  },
  {
   "attachments": {},
   "cell_type": "markdown",
   "metadata": {},
   "source": [
    "11.Replace the outliers with an appropriate value."
   ]
  },
  {
   "cell_type": "code",
   "execution_count": 11,
   "metadata": {},
   "outputs": [
    {
     "name": "stdout",
     "output_type": "stream",
     "text": [
      "[[[ 8.    27.    10.    22.    15.    26.    15.     8.     7.    22.44\n",
      "   11.    20.     6.    28.   ]\n",
      "  [ 6.    29.     8.    24.     7.    32.     8.    32.199  8.     8.\n",
      "    7.    24.    15.    22.   ]\n",
      "  [10.    24.    15.    23.    12.    25.     8.     8.     9.    28.\n",
      "    6.    22.    11.    20.   ]\n",
      "  [ 9.    31.    13.    27.    14.    30.    12.    29.     7.    22.\n",
      "    6.    28.    15.    32.   ]]\n",
      "\n",
      " [[ 7.    13.     9.    17.    11.    23.    10.    22.     8.    23.\n",
      "   12.    33.    16.    32.   ]\n",
      "  [ 8.    12.    10.    23.    14.    23.    11.    23.    16.    29.\n",
      "   12.    33.    15.    23.   ]\n",
      "  [ 7.    19.     8.    23.    10.    20.    13.    23.    12.    25.\n",
      "   11.    33.    18.    34.   ]\n",
      "  [13.    32.     8.    24.    10.    33.     7.    27.     8.    20.\n",
      "   10.    33.    14.    28.   ]]\n",
      "\n",
      " [[ 6.    11.     9.    23.    10.    20.    11.    17.    12.    23.\n",
      "   11.    23.    17.    33.   ]\n",
      "  [10.    22.    12.    23.     9.    23.    11.    33.    13.    24.\n",
      "    9.    33.    11.    23.   ]\n",
      "  [11.    23.    10.    25.     9.    28.    10.    23.     8.    24.\n",
      "    9.    28.    12.    33.   ]\n",
      "  [ 8.    12.     4.    15.     7.    23.     9.    22.    10.    24.\n",
      "    8.    12.    11.    19.   ]]\n",
      "\n",
      " [[ 8.    12.     7.    14.     8.    10.     9.    15.    10.    20.\n",
      "   12.    22.     7.    25.   ]\n",
      "  [ 8.    23.     5.    22.    10.    20.     8.    11.     9.    10.\n",
      "    6.    28.    11.    26.   ]\n",
      "  [ 4.    15.     4.    15.     7.    16.     9.    19.    10.    11.\n",
      "   11.    22.    14.    23.   ]\n",
      "  [10.    20.     9.    23.     7.    23.     9.    23.    10.    23.\n",
      "   11.    23.     9.    23.   ]]]\n"
     ]
    }
   ],
   "source": [
    "outlier = np.where(data < 4) # Finding the index\n",
    "data[outlier]=8 # replacing outliers with appropriate value\n",
    "print(data)"
   ]
  },
  {
   "attachments": {},
   "cell_type": "markdown",
   "metadata": {},
   "source": [
    "12. Find the average max temperature for the winter months in Jaipur."
   ]
  },
  {
   "cell_type": "code",
   "execution_count": 12,
   "metadata": {},
   "outputs": [
    {
     "name": "stdout",
     "output_type": "stream",
     "text": [
      "Average maximum temperature for the winter months in Jaipur: 24.03\n"
     ]
    }
   ],
   "source": [
    "# Select the elements corresponding to the winter months\n",
    "winter_months = data[:3]\n",
    "\n",
    "# Select the maximum temperature for each week\n",
    "max_temps = winter_months[:, :, 1:14:2]\n",
    "\n",
    "# Calculate the average maximum temperature for the winter months\n",
    "avg_max_temp = np.mean(max_temps)\n",
    "\n",
    "print(f\"Average maximum temperature for the winter months in Jaipur: {avg_max_temp:.2f}\")\n"
   ]
  },
  {
   "attachments": {},
   "cell_type": "markdown",
   "metadata": {},
   "source": [
    "13. Find the weekly min avg temp for the month of Dec in Jaipur"
   ]
  },
  {
   "cell_type": "code",
   "execution_count": 13,
   "metadata": {},
   "outputs": [
    {
     "name": "stdout",
     "output_type": "stream",
     "text": [
      "Average minimum temperatures for each week in December in Jaipur: [ 8.75  8.75 11.25 10.25 11.   11.25 15.75]\n"
     ]
    }
   ],
   "source": [
    "# Select the elements corresponding to the month of December\n",
    "december = data[1]\n",
    "\n",
    "# Select the minimum temperature for each week\n",
    "min_temps = december[:, 0:14:2]\n",
    "\n",
    "# Calculate the average minimum temperature for each week\n",
    "avg_min_temps = np.mean(min_temps, axis=0)\n",
    "\n",
    "print(f\"Average minimum temperatures for each week in December in Jaipur: {avg_min_temps}\")\n"
   ]
  },
  {
   "attachments": {},
   "cell_type": "markdown",
   "metadata": {},
   "source": [
    "14. Find the overall avg temp for the months Dec and Jan"
   ]
  },
  {
   "cell_type": "code",
   "execution_count": 14,
   "metadata": {},
   "outputs": [
    {
     "name": "stdout",
     "output_type": "stream",
     "text": [
      "Overall average temperature for the months of December and January: 17.23\n"
     ]
    }
   ],
   "source": [
    "# Select the elements corresponding to the months of December and January\n",
    "dec_jan = data[1:3]\n",
    "\n",
    "# Flatten the array to a 1D array\n",
    "flat_array = dec_jan.flatten()\n",
    "\n",
    "# Calculate the average temperature for the months of December and January\n",
    "avg_temp = np.mean(flat_array)\n",
    "\n",
    "print(f\"Overall average temperature for the months of December and January: {avg_temp:.2f}\")\n"
   ]
  },
  {
   "attachments": {},
   "cell_type": "markdown",
   "metadata": {},
   "source": [
    "15. Find the least temp experienced by the city in the month of Dec and\n",
    "Jan. Also print the exact date( Day/Week/Month) for the same."
   ]
  },
  {
   "cell_type": "code",
   "execution_count": 15,
   "metadata": {},
   "outputs": [
    {
     "ename": "",
     "evalue": "",
     "output_type": "error",
     "traceback": [
      "\u001b[1;31mThe Kernel crashed while executing code in the the current cell or a previous cell. Please review the code in the cell(s) to identify a possible cause of the failure. Click <a href='https://aka.ms/vscodeJupyterKernelCrash'>here</a> for more info. View Jupyter <a href='command:jupyter.viewOutput'>log</a> for further details."
     ]
    }
   ],
   "source": [
    "# Select the elements corresponding to the months of December and January\n",
    "dec_jan = data[1:3]\n",
    "\n",
    "# Flatten the array to a 1D array\n",
    "flat_array = dec_jan.flatten()\n",
    "\n",
    "# Find the minimum temperature\n",
    "min_temp = np.min(flat_array)"
   ]
  }
 ],
 "metadata": {
  "kernelspec": {
   "display_name": "Python 3",
   "language": "python",
   "name": "python3"
  },
  "language_info": {
   "codemirror_mode": {
    "name": "ipython",
    "version": 3
   },
   "file_extension": ".py",
   "mimetype": "text/x-python",
   "name": "python",
   "nbconvert_exporter": "python",
   "pygments_lexer": "ipython3",
   "version": "3.10.10"
  },
  "orig_nbformat": 4,
  "vscode": {
   "interpreter": {
    "hash": "854ad7b50770bedaf0cab730b1aaabb765566ea98036f134b639e260bede141e"
   }
  }
 },
 "nbformat": 4,
 "nbformat_minor": 2
}
