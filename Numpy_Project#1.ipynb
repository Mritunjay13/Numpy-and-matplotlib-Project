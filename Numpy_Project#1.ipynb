{
 "cells": [
  {
   "cell_type": "code",
   "execution_count": 1,
   "metadata": {},
   "outputs": [],
   "source": [
    "import numpy as np\n"
   ]
  },
  {
   "attachments": {},
   "cell_type": "markdown",
   "metadata": {},
   "source": [
    "1. Representing the data in the given sheet into an appropriate NumPy array so\n",
    "that we can perform the tasks on it."
   ]
  },
  {
   "cell_type": "code",
   "execution_count": 2,
   "metadata": {},
   "outputs": [],
   "source": [
    "Data=np.array([[[8,27,10,22,15,26,15,21,7,26,11,20,6,28],[6,29,8,24,7,32,-13,32,8,23,7,24,15,22],[10,24,15,23,12,25,8,21,9,28,6,22,11,20],[9,31,13,27,14,30,12,29,7,22,6,28,15,32]],[[7,13,9,17,11,23,10,22,8,23,12,33,16,32],[8,12,10,23,14,23,11,23,16,29,12,33,15,23],[7,19,8,23,10,20,13,23,12,25,11,33,18,34],[13,32,8,24,10,33,7,27,8,20,10,33,14,28]],[[6,11,9,23,10,20,11,17,12,23,11,23,17,33],[10,22,12,23,9,23,11,33,13,24,9,33,11,23],[11,23,10,25,9,28,10,23,8,24,9,28,12,33],[3,12,4,15,7,23,9,22,10,24,3,12,11,19]],[[3,12,7,14,8,10,9,15,10,20,12,22,7,25],[3,23,5,22,10,20,3,11,9,10,6,28,11,26],[4,15,4,15,7,16,9,19,10,11,11,22,14,23],[10,20,9,23,7,23,9,23,10,23,11,23,9,23]]])"
   ]
  },
  {
   "cell_type": "code",
   "execution_count": 3,
   "metadata": {},
   "outputs": [
    {
     "name": "stdout",
     "output_type": "stream",
     "text": [
      "[[[  8  27  10  22  15  26  15  21   7  26  11  20   6  28]\n",
      "  [  6  29   8  24   7  32 -13  32   8  23   7  24  15  22]\n",
      "  [ 10  24  15  23  12  25   8  21   9  28   6  22  11  20]\n",
      "  [  9  31  13  27  14  30  12  29   7  22   6  28  15  32]]\n",
      "\n",
      " [[  7  13   9  17  11  23  10  22   8  23  12  33  16  32]\n",
      "  [  8  12  10  23  14  23  11  23  16  29  12  33  15  23]\n",
      "  [  7  19   8  23  10  20  13  23  12  25  11  33  18  34]\n",
      "  [ 13  32   8  24  10  33   7  27   8  20  10  33  14  28]]\n",
      "\n",
      " [[  6  11   9  23  10  20  11  17  12  23  11  23  17  33]\n",
      "  [ 10  22  12  23   9  23  11  33  13  24   9  33  11  23]\n",
      "  [ 11  23  10  25   9  28  10  23   8  24   9  28  12  33]\n",
      "  [  3  12   4  15   7  23   9  22  10  24   3  12  11  19]]\n",
      "\n",
      " [[  3  12   7  14   8  10   9  15  10  20  12  22   7  25]\n",
      "  [  3  23   5  22  10  20   3  11   9  10   6  28  11  26]\n",
      "  [  4  15   4  15   7  16   9  19  10  11  11  22  14  23]\n",
      "  [ 10  20   9  23   7  23   9  23  10  23  11  23   9  23]]]\n"
     ]
    }
   ],
   "source": [
    "print(Data)"
   ]
  },
  {
   "attachments": {},
   "cell_type": "markdown",
   "metadata": {},
   "source": [
    "2. Write the dimensions and shape of the NumPy array that you have\n",
    "created"
   ]
  },
  {
   "cell_type": "code",
   "execution_count": null,
   "metadata": {},
   "outputs": [],
   "source": [
    "print(Data.ndim)\n",
    "print(Data.shape)"
   ]
  },
  {
   "attachments": {},
   "cell_type": "markdown",
   "metadata": {},
   "source": [
    "3. Print the daily temperatures for the first week of each month."
   ]
  },
  {
   "cell_type": "code",
   "execution_count": null,
   "metadata": {},
   "outputs": [],
   "source": [
    "First_week=Data[:, 0,:]\n",
    "print(First_week)"
   ]
  },
  {
   "attachments": {},
   "cell_type": "markdown",
   "metadata": {},
   "source": [
    "4. Print the temperatures for Tuesday of each month."
   ]
  },
  {
   "cell_type": "code",
   "execution_count": null,
   "metadata": {},
   "outputs": [],
   "source": [
    "Tuesday=Data[:,:,2:4]\n",
    "print(Tuesday)\n"
   ]
  },
  {
   "attachments": {},
   "cell_type": "markdown",
   "metadata": {},
   "source": [
    "5. Print only the maximum temperature for all the weekdays of Dec and Feb."
   ]
  },
  {
   "cell_type": "code",
   "execution_count": null,
   "metadata": {},
   "outputs": [],
   "source": [
    "weekdays=Data[1:4:2,:,0:9:2]\n",
    "print(weekdays)"
   ]
  },
  {
   "attachments": {},
   "cell_type": "markdown",
   "metadata": {},
   "source": [
    "6. Print all the days along with the week number in November when the\n",
    "minimum temperature was less than 8 degrees."
   ]
  },
  {
   "cell_type": "code",
   "execution_count": 52,
   "metadata": {},
   "outputs": [
    {
     "name": "stdout",
     "output_type": "stream",
     "text": [
      "[ 0  4  6  8 10 12]\n"
     ]
    }
   ],
   "source": [
    "November=Data[0]\n",
    "min_temp=np.min(November, axis=0)\n",
    "indices=np.where(min_temp < 8)[0]"
   ]
  },
  {
   "cell_type": "code",
   "execution_count": null,
   "metadata": {},
   "outputs": [],
   "source": [
    "for i in indices:\n",
    "    week = i // 7 + 1  # divide by 7 and add 1 to get the week number\n",
    "    day = i % 7 + 1  # modulo 7 and add 1 to get the day of the week\n",
    "    print(f\"Week {week}, Day {day}: {min_temp[i]}\")"
   ]
  },
  {
   "attachments": {},
   "cell_type": "markdown",
   "metadata": {},
   "source": [
    "7. Print all the weeks in Dec and Jan where the maximum temperature has\n",
    "crossed a threshold of 20 degrees."
   ]
  }
 ],
 "metadata": {
  "kernelspec": {
   "display_name": "Python 3",
   "language": "python",
   "name": "python3"
  },
  "language_info": {
   "codemirror_mode": {
    "name": "ipython",
    "version": 3
   },
   "file_extension": ".py",
   "mimetype": "text/x-python",
   "name": "python",
   "nbconvert_exporter": "python",
   "pygments_lexer": "ipython3",
   "version": "3.10.8"
  },
  "orig_nbformat": 4,
  "vscode": {
   "interpreter": {
    "hash": "854ad7b50770bedaf0cab730b1aaabb765566ea98036f134b639e260bede141e"
   }
  }
 },
 "nbformat": 4,
 "nbformat_minor": 2
}
